{
 "cells": [
  {
   "cell_type": "markdown",
   "id": "77521133-955b-4079-b8a1-aa82495c72e0",
   "metadata": {},
   "source": [
    "Script leest de data van Techniek Nederland uit. Belangrijk"
   ]
  },
  {
   "cell_type": "code",
   "execution_count": null,
   "id": "26a9ea71-32d8-4168-8c25-e0f14690b9eb",
   "metadata": {},
   "outputs": [],
   "source": [
    "import pandas as pd"
   ]
  },
  {
   "cell_type": "code",
   "execution_count": 91,
   "id": "ccd8aa0f-e07f-4a76-80c6-0c77717f8211",
   "metadata": {},
   "outputs": [],
   "source": [
    "df = pd.read_json(r'C:\\Users\\LucasBoltFlinkernl\\OneDrive - Flinker B.V\\Python\\companies.json')"
   ]
  },
  {
   "cell_type": "code",
   "execution_count": 99,
   "id": "874f826c-08b0-427d-95ee-7554c4c08b35",
   "metadata": {},
   "outputs": [
    {
     "data": {
      "text/plain": [
       "'C:\\\\Users\\\\LucasBoltFlinkernl\\\\OneDrive - Flinker B.V\\\\Python\\\\Resultaat\\\\companies.xlsx'"
      ]
     },
     "execution_count": 99,
     "metadata": {},
     "output_type": "execute_result"
    }
   ],
   "source": [
    "# Select required columns and rename them\n",
    "df_selected = df[['Name', 'Site', 'Phone']]\n",
    "df_selected.columns = ['Naam', 'Website', 'Telefoonnummer']\n",
    " \n",
    "# Save to an xls file\n",
    "xls_path = r'C:\\Users\\LucasBoltFlinkernl\\OneDrive - Flinker B.V\\Python\\Resultaat\\companies.xlsx'\n",
    "df.to_excel(xls_path, index=False)\n",
    " \n",
    "xls_path"
   ]
  }
 ],
 "metadata": {
  "kernelspec": {
   "display_name": "Python 3 (ipykernel)",
   "language": "python",
   "name": "python3"
  },
  "language_info": {
   "codemirror_mode": {
    "name": "ipython",
    "version": 3
   },
   "file_extension": ".py",
   "mimetype": "text/x-python",
   "name": "python",
   "nbconvert_exporter": "python",
   "pygments_lexer": "ipython3",
   "version": "3.12.4"
  }
 },
 "nbformat": 4,
 "nbformat_minor": 5
}
