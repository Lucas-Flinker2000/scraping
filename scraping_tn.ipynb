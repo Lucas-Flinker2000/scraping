{
 "cells": [
  {
   "cell_type": "markdown",
   "id": "05a79292-3187-4a2c-b422-3c38109248e8",
   "metadata": {},
   "source": [
    "Dit script leest de data van Techniek Nederland uit. En zet het in een dataframe, een excel. Belangrijk om toe te lichten is dat voor de uitvoering van dit script een aantal stappen zijn uitgevoerd om de data in JSON-formaat te krijgen. Deze handmatige stappen zijn nog niet geautomatiseerd. Om deze stappen nog verder te automatiseren is verder onderzoek nodig.\n",
    "\n",
    "De volgende stappen zijn handmatig uitgevoerd voor het krijgen van een lijst in JSON-formaat, die vervolgens door python kan worden herkend en gebruikt: \n",
    "\n",
    "1. Gewenste data opzoeken website:\n",
    "   Website van Techniek Nederland geopend en vervolgens met een zoekopdracht alle 'duurzame' installatiebedrijven opgezocht.\n",
    "   \n",
    "2. Console data (list) als object kopiëren\n",
    "   Door F12 te gebruiken wordt de terminal geopend. Door vervolgens naar de console te gaan, wordt een lijst met 'objects' en 'lists'\n",
    "   getoond die op de webpagina staan. Het object met de bedrijfsinformatie is gekopieerd. \n",
    "  \n",
    "3. Plakken in JSON-formaat\n",
    "   De gekopieerde bedrijfsinformatie wordt vervolgens in kladblok of notepad++ opgeslagen in JSON-formaat.\n",
    "\n",
    "De volgende stappen worden door python uitgevoerd:\n",
    "\n",
    "1. De 'library'/ module pandas wordt geïmporteerd om de data te kunnen bewerken.\n",
    "2. Vervolgens wordt het JSON-bestand ingelezen en als dataframe (variabele) weergegeven.\n",
    "3. De gewenste kolommen worden geselecteerd en het dataframe wordt hernoemd.\n",
    "4. Het dataframe wordt vervolgens opgeslagen als excel.\n"
   ]
  },
  {
   "cell_type": "markdown",
   "id": "8f50f9e2-ccaf-47a0-ba4a-45f2050433be",
   "metadata": {},
   "source": [
    "Pandas importeren"
   ]
  },
  {
   "cell_type": "code",
   "execution_count": 3,
   "id": "26a9ea71-32d8-4168-8c25-e0f14690b9eb",
   "metadata": {},
   "outputs": [],
   "source": [
    "import pandas as pd\n",
    "import numpy as np"
   ]
  },
  {
   "cell_type": "markdown",
   "id": "02cbc551-73a7-42ea-bf44-122508f2dc91",
   "metadata": {},
   "source": [
    "JSON bestand inlezen als dataframe"
   ]
  },
  {
   "cell_type": "code",
   "execution_count": 5,
   "id": "ccd8aa0f-e07f-4a76-80c6-0c77717f8211",
   "metadata": {},
   "outputs": [],
   "source": [
    "df = pd.read_json(r'C:\\Users\\LucasBoltFlinkernl\\OneDrive - Flinker B.V\\Python\\companies.json')"
   ]
  },
  {
   "cell_type": "markdown",
   "id": "a4798adf-dd94-4b2b-bcf1-e2465075f368",
   "metadata": {},
   "source": [
    "Gewenste kolommen selecteren"
   ]
  },
  {
   "cell_type": "code",
   "execution_count": 7,
   "id": "874f826c-08b0-427d-95ee-7554c4c08b35",
   "metadata": {},
   "outputs": [],
   "source": [
    "# Select required columns and rename them\n",
    "df_selected = df[['Name', 'Site', 'Phone']]\n",
    "df_selected.columns = ['Naam', 'Website', 'Telefoonnummer']\n",
    " \n"
   ]
  },
  {
   "cell_type": "markdown",
   "id": "acd21b26-eb64-423e-ba69-492dc0d0c183",
   "metadata": {},
   "source": [
    "Bestand opslaan als excel-bestand"
   ]
  },
  {
   "cell_type": "code",
   "execution_count": 30,
   "id": "33d7b5a9-70bf-4ab0-be5c-203fabafad3f",
   "metadata": {},
   "outputs": [
    {
     "data": {
      "text/plain": [
       "'C:\\\\Users\\\\LucasBoltFlinkernl\\\\OneDrive - Flinker B.V\\\\Python\\\\Resultaat\\\\companies_compleet.xlsx'"
      ]
     },
     "execution_count": 30,
     "metadata": {},
     "output_type": "execute_result"
    }
   ],
   "source": [
    "# Save to an xls file\n",
    "xls_path = r'C:\\Users\\LucasBoltFlinkernl\\OneDrive - Flinker B.V\\Python\\Resultaat\\companies_compleet.xlsx'\n",
    "df.to_excel(xls_path, index=False)\n",
    " \n",
    "xls_path"
   ]
  },
  {
   "cell_type": "code",
   "execution_count": 10,
   "id": "f098d9f1-f384-4d8b-91cd-10af0a7edf47",
   "metadata": {},
   "outputs": [],
   "source": [
    "df = pd.DataFrame(df)"
   ]
  },
  {
   "cell_type": "code",
   "execution_count": 11,
   "id": "a9f9357a-b030-4e9b-8cce-c3e26256bace",
   "metadata": {},
   "outputs": [
    {
     "data": {
      "text/html": [
       "<div>\n",
       "<style scoped>\n",
       "    .dataframe tbody tr th:only-of-type {\n",
       "        vertical-align: middle;\n",
       "    }\n",
       "\n",
       "    .dataframe tbody tr th {\n",
       "        vertical-align: top;\n",
       "    }\n",
       "\n",
       "    .dataframe thead th {\n",
       "        text-align: right;\n",
       "    }\n",
       "</style>\n",
       "<table border=\"1\" class=\"dataframe\">\n",
       "  <thead>\n",
       "    <tr style=\"text-align: right;\">\n",
       "      <th></th>\n",
       "      <th>Id</th>\n",
       "      <th>Name</th>\n",
       "      <th>AltName</th>\n",
       "      <th>Site</th>\n",
       "      <th>Phone</th>\n",
       "      <th>Mail</th>\n",
       "      <th>Loc.</th>\n",
       "      <th>Kwaliteitreg</th>\n",
       "      <th>Specialismen</th>\n",
       "      <th>Rate</th>\n",
       "      <th>RateUrl</th>\n",
       "      <th>RateAmount</th>\n",
       "      <th>Lat</th>\n",
       "      <th>Lng</th>\n",
       "      <th>relevantScore</th>\n",
       "      <th>resultsLeft</th>\n",
       "    </tr>\n",
       "  </thead>\n",
       "  <tbody>\n",
       "    <tr>\n",
       "      <th>0</th>\n",
       "      <td>123413.0</td>\n",
       "      <td>JNC Elektrotechniek BV</td>\n",
       "      <td>None</td>\n",
       "      <td>www.jnce.nl</td>\n",
       "      <td>0306372982</td>\n",
       "      <td>Info@jnce.nl</td>\n",
       "      <td>De Brug 4, HOUTEN</td>\n",
       "      <td>[2110]</td>\n",
       "      <td>[1379]</td>\n",
       "      <td>10</td>\n",
       "      <td>https://www.klantenvertellen.nl/reviews/102726...</td>\n",
       "      <td>5.0</td>\n",
       "      <td>52.024085</td>\n",
       "      <td>5.158531</td>\n",
       "      <td>0.0</td>\n",
       "      <td>NaN</td>\n",
       "    </tr>\n",
       "    <tr>\n",
       "      <th>1</th>\n",
       "      <td>125460.0</td>\n",
       "      <td>ST/Warmte B.V.</td>\n",
       "      <td>None</td>\n",
       "      <td>www.stwarmte.nl</td>\n",
       "      <td>0172574691</td>\n",
       "      <td>info@stwarmte.nl</td>\n",
       "      <td>Energieweg 43, NIEUWKOOP</td>\n",
       "      <td>[1876, 2091, 2123, 2150, 2250, 2276, 2279, 228...</td>\n",
       "      <td>[1379, 1380, 1381, 1382, 1462]</td>\n",
       "      <td>10</td>\n",
       "      <td>https://www.klantenvertellen.nl/reviews/102864...</td>\n",
       "      <td>17.0</td>\n",
       "      <td>52.162841</td>\n",
       "      <td>4.779912</td>\n",
       "      <td>0.0</td>\n",
       "      <td>NaN</td>\n",
       "    </tr>\n",
       "    <tr>\n",
       "      <th>2</th>\n",
       "      <td>153303.0</td>\n",
       "      <td>Queens Airco &amp; Elektrotechniek B.V.</td>\n",
       "      <td>None</td>\n",
       "      <td>www.aircoservicequeens.nl</td>\n",
       "      <td>0246963455</td>\n",
       "      <td>info@aircoservicequeens.nl</td>\n",
       "      <td>Rijksweg 35, MOLENHOEK LB</td>\n",
       "      <td>[1876, 2110]</td>\n",
       "      <td>[1379, 1382]</td>\n",
       "      <td>10</td>\n",
       "      <td>https://www.klantenvertellen.nl/reviews/102469...</td>\n",
       "      <td>21.0</td>\n",
       "      <td>51.758570</td>\n",
       "      <td>5.871937</td>\n",
       "      <td>0.0</td>\n",
       "      <td>NaN</td>\n",
       "    </tr>\n",
       "    <tr>\n",
       "      <th>3</th>\n",
       "      <td>157546.0</td>\n",
       "      <td>Benjert Installatietechniek</td>\n",
       "      <td>None</td>\n",
       "      <td>www.benjertinstallatie.nl</td>\n",
       "      <td>0627484552</td>\n",
       "      <td>info@benjertinstallatie.nl</td>\n",
       "      <td>Johannis Bogaardstraat 23, NIEUW-VENNEP</td>\n",
       "      <td>[1803, 2123, 2150, 2250, 2334]</td>\n",
       "      <td>[1380, 1381, 1462]</td>\n",
       "      <td>10</td>\n",
       "      <td>https://www.klantenvertellen.nl/reviews/102496...</td>\n",
       "      <td>9.0</td>\n",
       "      <td>52.264593</td>\n",
       "      <td>4.626028</td>\n",
       "      <td>0.0</td>\n",
       "      <td>NaN</td>\n",
       "    </tr>\n",
       "    <tr>\n",
       "      <th>4</th>\n",
       "      <td>158245.0</td>\n",
       "      <td>Van Leeuwen Elektra B.V.</td>\n",
       "      <td>None</td>\n",
       "      <td>www.vanleeuwenelektra.nl</td>\n",
       "      <td>0206402266</td>\n",
       "      <td>info@vlebv.nl</td>\n",
       "      <td>Schinkeldijkje 16-X, AALSMEER</td>\n",
       "      <td>[2110]</td>\n",
       "      <td>[1379, 1462]</td>\n",
       "      <td>10</td>\n",
       "      <td>https://www.klantenvertellen.nl/reviews/102930...</td>\n",
       "      <td>8.0</td>\n",
       "      <td>52.290714</td>\n",
       "      <td>4.821824</td>\n",
       "      <td>0.0</td>\n",
       "      <td>NaN</td>\n",
       "    </tr>\n",
       "  </tbody>\n",
       "</table>\n",
       "</div>"
      ],
      "text/plain": [
       "         Id                                 Name AltName  \\\n",
       "0  123413.0               JNC Elektrotechniek BV    None   \n",
       "1  125460.0                       ST/Warmte B.V.    None   \n",
       "2  153303.0  Queens Airco & Elektrotechniek B.V.    None   \n",
       "3  157546.0          Benjert Installatietechniek    None   \n",
       "4  158245.0             Van Leeuwen Elektra B.V.    None   \n",
       "\n",
       "                        Site       Phone                        Mail  \\\n",
       "0                www.jnce.nl  0306372982                Info@jnce.nl   \n",
       "1            www.stwarmte.nl  0172574691            info@stwarmte.nl   \n",
       "2  www.aircoservicequeens.nl  0246963455  info@aircoservicequeens.nl   \n",
       "3  www.benjertinstallatie.nl  0627484552  info@benjertinstallatie.nl   \n",
       "4   www.vanleeuwenelektra.nl  0206402266               info@vlebv.nl   \n",
       "\n",
       "                                      Loc.  \\\n",
       "0                        De Brug 4, HOUTEN   \n",
       "1                 Energieweg 43, NIEUWKOOP   \n",
       "2                Rijksweg 35, MOLENHOEK LB   \n",
       "3  Johannis Bogaardstraat 23, NIEUW-VENNEP   \n",
       "4            Schinkeldijkje 16-X, AALSMEER   \n",
       "\n",
       "                                        Kwaliteitreg  \\\n",
       "0                                             [2110]   \n",
       "1  [1876, 2091, 2123, 2150, 2250, 2276, 2279, 228...   \n",
       "2                                       [1876, 2110]   \n",
       "3                     [1803, 2123, 2150, 2250, 2334]   \n",
       "4                                             [2110]   \n",
       "\n",
       "                     Specialismen Rate  \\\n",
       "0                          [1379]   10   \n",
       "1  [1379, 1380, 1381, 1382, 1462]   10   \n",
       "2                    [1379, 1382]   10   \n",
       "3              [1380, 1381, 1462]   10   \n",
       "4                    [1379, 1462]   10   \n",
       "\n",
       "                                             RateUrl  RateAmount        Lat  \\\n",
       "0  https://www.klantenvertellen.nl/reviews/102726...         5.0  52.024085   \n",
       "1  https://www.klantenvertellen.nl/reviews/102864...        17.0  52.162841   \n",
       "2  https://www.klantenvertellen.nl/reviews/102469...        21.0  51.758570   \n",
       "3  https://www.klantenvertellen.nl/reviews/102496...         9.0  52.264593   \n",
       "4  https://www.klantenvertellen.nl/reviews/102930...         8.0  52.290714   \n",
       "\n",
       "        Lng  relevantScore  resultsLeft  \n",
       "0  5.158531            0.0          NaN  \n",
       "1  4.779912            0.0          NaN  \n",
       "2  5.871937            0.0          NaN  \n",
       "3  4.626028            0.0          NaN  \n",
       "4  4.821824            0.0          NaN  "
      ]
     },
     "execution_count": 11,
     "metadata": {},
     "output_type": "execute_result"
    }
   ],
   "source": [
    "df.head()"
   ]
  },
  {
   "cell_type": "code",
   "execution_count": 28,
   "id": "f382ea7e-e583-4f49-8408-fa8f7806304d",
   "metadata": {},
   "outputs": [
    {
     "data": {
      "text/plain": [
       "'C:\\\\Users\\\\LucasBoltFlinkernl\\\\OneDrive - Flinker B.V\\\\Python\\\\Resultaat\\\\companies_sorted.xlsx'"
      ]
     },
     "execution_count": 28,
     "metadata": {},
     "output_type": "execute_result"
    }
   ],
   "source": [
    "df_sorted = df.sort_values(by=['Rate'], ascending=False)\n",
    "df_def = df_sorted[['Name','Site', 'Loc.', 'Rate', 'Phone', 'Mail']]\n",
    "\n",
    "df_selected = df_def[['Name','Site', 'Loc.', 'Rate', 'Phone', 'Mail']]\n",
    "df_selected.columns = ['Naam Verkooprelatie', 'Website', 'Adres', 'Beoordeling', 'Telefoonnummer', 'E-mail']\n",
    "\n",
    "\n",
    "xls_path = r'C:\\Users\\LucasBoltFlinkernl\\OneDrive - Flinker B.V\\Python\\Resultaat\\companies_sorted.xlsx'\n",
    "df_def.to_excel(xls_path, index=False)\n",
    " \n",
    "xls_path"
   ]
  }
 ],
 "metadata": {
  "kernelspec": {
   "display_name": "Python 3 (ipykernel)",
   "language": "python",
   "name": "python3"
  },
  "language_info": {
   "codemirror_mode": {
    "name": "ipython",
    "version": 3
   },
   "file_extension": ".py",
   "mimetype": "text/x-python",
   "name": "python",
   "nbconvert_exporter": "python",
   "pygments_lexer": "ipython3",
   "version": "3.12.4"
  }
 },
 "nbformat": 4,
 "nbformat_minor": 5
}
